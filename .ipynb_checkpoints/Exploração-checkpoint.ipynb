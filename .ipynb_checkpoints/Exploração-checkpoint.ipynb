{
 "cells": [
  {
   "cell_type": "code",
   "execution_count": 1,
   "metadata": {},
   "outputs": [],
   "source": [
    "import pandas as pd\n",
    "import numpy as np\n",
    "from matplotlib import pyplot as plt"
   ]
  },
  {
   "cell_type": "code",
   "execution_count": 2,
   "metadata": {
    "scrolled": true
   },
   "outputs": [
    {
     "data": {
      "text/html": [
       "<div>\n",
       "<style scoped>\n",
       "    .dataframe tbody tr th:only-of-type {\n",
       "        vertical-align: middle;\n",
       "    }\n",
       "\n",
       "    .dataframe tbody tr th {\n",
       "        vertical-align: top;\n",
       "    }\n",
       "\n",
       "    .dataframe thead th {\n",
       "        text-align: right;\n",
       "    }\n",
       "</style>\n",
       "<table border=\"1\" class=\"dataframe\">\n",
       "  <thead>\n",
       "    <tr style=\"text-align: right;\">\n",
       "      <th></th>\n",
       "      <th>Unnamed: 0</th>\n",
       "      <th>customerID</th>\n",
       "      <th>gender</th>\n",
       "      <th>SeniorCitizen</th>\n",
       "      <th>Partner</th>\n",
       "      <th>Dependents</th>\n",
       "      <th>tenure</th>\n",
       "      <th>PhoneService</th>\n",
       "      <th>MultipleLines</th>\n",
       "      <th>InternetService</th>\n",
       "      <th>...</th>\n",
       "      <th>DeviceProtection</th>\n",
       "      <th>TechSupport</th>\n",
       "      <th>StreamingTV</th>\n",
       "      <th>StreamingMovies</th>\n",
       "      <th>Contract</th>\n",
       "      <th>PaperlessBilling</th>\n",
       "      <th>PaymentMethod</th>\n",
       "      <th>MonthlyCharges</th>\n",
       "      <th>TotalCharges</th>\n",
       "      <th>Churn</th>\n",
       "    </tr>\n",
       "  </thead>\n",
       "  <tbody>\n",
       "    <tr>\n",
       "      <th>0</th>\n",
       "      <td>1869</td>\n",
       "      <td>7010-BRBUU</td>\n",
       "      <td>Male</td>\n",
       "      <td>0</td>\n",
       "      <td>Yes</td>\n",
       "      <td>Yes</td>\n",
       "      <td>72</td>\n",
       "      <td>Yes</td>\n",
       "      <td>Yes</td>\n",
       "      <td>No</td>\n",
       "      <td>...</td>\n",
       "      <td>No internet service</td>\n",
       "      <td>No internet service</td>\n",
       "      <td>No internet service</td>\n",
       "      <td>No internet service</td>\n",
       "      <td>Two year</td>\n",
       "      <td>No</td>\n",
       "      <td>Credit card (automatic)</td>\n",
       "      <td>24.10</td>\n",
       "      <td>1734.65</td>\n",
       "      <td>No</td>\n",
       "    </tr>\n",
       "    <tr>\n",
       "      <th>1</th>\n",
       "      <td>4528</td>\n",
       "      <td>9688-YGXVR</td>\n",
       "      <td>Female</td>\n",
       "      <td>0</td>\n",
       "      <td>No</td>\n",
       "      <td>No</td>\n",
       "      <td>44</td>\n",
       "      <td>Yes</td>\n",
       "      <td>No</td>\n",
       "      <td>Fiber optic</td>\n",
       "      <td>...</td>\n",
       "      <td>Yes</td>\n",
       "      <td>No</td>\n",
       "      <td>Yes</td>\n",
       "      <td>No</td>\n",
       "      <td>Month-to-month</td>\n",
       "      <td>Yes</td>\n",
       "      <td>Credit card (automatic)</td>\n",
       "      <td>88.15</td>\n",
       "      <td>3973.2</td>\n",
       "      <td>No</td>\n",
       "    </tr>\n",
       "    <tr>\n",
       "      <th>2</th>\n",
       "      <td>6344</td>\n",
       "      <td>9286-DOJGF</td>\n",
       "      <td>Female</td>\n",
       "      <td>1</td>\n",
       "      <td>Yes</td>\n",
       "      <td>No</td>\n",
       "      <td>38</td>\n",
       "      <td>Yes</td>\n",
       "      <td>Yes</td>\n",
       "      <td>Fiber optic</td>\n",
       "      <td>...</td>\n",
       "      <td>No</td>\n",
       "      <td>No</td>\n",
       "      <td>No</td>\n",
       "      <td>No</td>\n",
       "      <td>Month-to-month</td>\n",
       "      <td>Yes</td>\n",
       "      <td>Bank transfer (automatic)</td>\n",
       "      <td>74.95</td>\n",
       "      <td>2869.85</td>\n",
       "      <td>Yes</td>\n",
       "    </tr>\n",
       "    <tr>\n",
       "      <th>3</th>\n",
       "      <td>6739</td>\n",
       "      <td>6994-KERXL</td>\n",
       "      <td>Male</td>\n",
       "      <td>0</td>\n",
       "      <td>No</td>\n",
       "      <td>No</td>\n",
       "      <td>4</td>\n",
       "      <td>Yes</td>\n",
       "      <td>No</td>\n",
       "      <td>DSL</td>\n",
       "      <td>...</td>\n",
       "      <td>No</td>\n",
       "      <td>No</td>\n",
       "      <td>No</td>\n",
       "      <td>Yes</td>\n",
       "      <td>Month-to-month</td>\n",
       "      <td>Yes</td>\n",
       "      <td>Electronic check</td>\n",
       "      <td>55.90</td>\n",
       "      <td>238.5</td>\n",
       "      <td>No</td>\n",
       "    </tr>\n",
       "    <tr>\n",
       "      <th>4</th>\n",
       "      <td>432</td>\n",
       "      <td>2181-UAESM</td>\n",
       "      <td>Male</td>\n",
       "      <td>0</td>\n",
       "      <td>No</td>\n",
       "      <td>No</td>\n",
       "      <td>2</td>\n",
       "      <td>Yes</td>\n",
       "      <td>No</td>\n",
       "      <td>DSL</td>\n",
       "      <td>...</td>\n",
       "      <td>Yes</td>\n",
       "      <td>No</td>\n",
       "      <td>No</td>\n",
       "      <td>No</td>\n",
       "      <td>Month-to-month</td>\n",
       "      <td>No</td>\n",
       "      <td>Electronic check</td>\n",
       "      <td>53.45</td>\n",
       "      <td>119.5</td>\n",
       "      <td>No</td>\n",
       "    </tr>\n",
       "  </tbody>\n",
       "</table>\n",
       "<p>5 rows × 22 columns</p>\n",
       "</div>"
      ],
      "text/plain": [
       "   Unnamed: 0  customerID  gender  SeniorCitizen Partner Dependents  tenure  \\\n",
       "0        1869  7010-BRBUU    Male              0     Yes        Yes      72   \n",
       "1        4528  9688-YGXVR  Female              0      No         No      44   \n",
       "2        6344  9286-DOJGF  Female              1     Yes         No      38   \n",
       "3        6739  6994-KERXL    Male              0      No         No       4   \n",
       "4         432  2181-UAESM    Male              0      No         No       2   \n",
       "\n",
       "  PhoneService MultipleLines InternetService  ...     DeviceProtection  \\\n",
       "0          Yes           Yes              No  ...  No internet service   \n",
       "1          Yes            No     Fiber optic  ...                  Yes   \n",
       "2          Yes           Yes     Fiber optic  ...                   No   \n",
       "3          Yes            No             DSL  ...                   No   \n",
       "4          Yes            No             DSL  ...                  Yes   \n",
       "\n",
       "           TechSupport          StreamingTV      StreamingMovies  \\\n",
       "0  No internet service  No internet service  No internet service   \n",
       "1                   No                  Yes                   No   \n",
       "2                   No                   No                   No   \n",
       "3                   No                   No                  Yes   \n",
       "4                   No                   No                   No   \n",
       "\n",
       "         Contract PaperlessBilling              PaymentMethod MonthlyCharges  \\\n",
       "0        Two year               No    Credit card (automatic)          24.10   \n",
       "1  Month-to-month              Yes    Credit card (automatic)          88.15   \n",
       "2  Month-to-month              Yes  Bank transfer (automatic)          74.95   \n",
       "3  Month-to-month              Yes           Electronic check          55.90   \n",
       "4  Month-to-month               No           Electronic check          53.45   \n",
       "\n",
       "  TotalCharges  Churn  \n",
       "0      1734.65     No  \n",
       "1       3973.2     No  \n",
       "2      2869.85    Yes  \n",
       "3        238.5     No  \n",
       "4        119.5     No  \n",
       "\n",
       "[5 rows x 22 columns]"
      ]
     },
     "execution_count": 2,
     "metadata": {},
     "output_type": "execute_result"
    }
   ],
   "source": [
    "df = pd.read_csv('./telcom/telecom_users.csv')\n",
    "df.head()"
   ]
  },
  {
   "cell_type": "code",
   "execution_count": 3,
   "metadata": {},
   "outputs": [
    {
     "data": {
      "text/plain": [
       "(5986, 22)"
      ]
     },
     "execution_count": 3,
     "metadata": {},
     "output_type": "execute_result"
    }
   ],
   "source": [
    "df.shape"
   ]
  },
  {
   "cell_type": "code",
   "execution_count": 4,
   "metadata": {},
   "outputs": [
    {
     "data": {
      "text/plain": [
       "False"
      ]
     },
     "execution_count": 4,
     "metadata": {},
     "output_type": "execute_result"
    }
   ],
   "source": [
    "df.isnull().values.any()"
   ]
  },
  {
   "cell_type": "code",
   "execution_count": 5,
   "metadata": {},
   "outputs": [],
   "source": [
    "cat_columns = ['gender', 'SeniorCitizen', 'Partner', 'Dependents',\n",
    "       'PhoneService', 'MultipleLines', 'InternetService', 'OnlineSecurity',\n",
    "       'OnlineBackup', 'DeviceProtection', 'TechSupport', 'StreamingTV',\n",
    "       'StreamingMovies', 'Contract', 'PaperlessBilling', 'PaymentMethod',\n",
    "       'Churn']\n",
    "num_columns = ['TotalCharges','MonthlyCharges','tenure']"
   ]
  },
  {
   "cell_type": "code",
   "execution_count": 6,
   "metadata": {},
   "outputs": [
    {
     "name": "stdout",
     "output_type": "stream",
     "text": [
      "\n",
      " \n",
      "Coluna:  gender Valores:  ['Male' 'Female']\n",
      "\n",
      " \n",
      "Coluna:  SeniorCitizen Valores:  [0 1]\n",
      "\n",
      " \n",
      "Coluna:  Partner Valores:  ['Yes' 'No']\n",
      "\n",
      " \n",
      "Coluna:  Dependents Valores:  ['Yes' 'No']\n",
      "\n",
      " \n",
      "Coluna:  PhoneService Valores:  ['Yes' 'No']\n",
      "\n",
      " \n",
      "Coluna:  MultipleLines Valores:  ['Yes' 'No' 'No phone service']\n",
      "\n",
      " \n",
      "Coluna:  InternetService Valores:  ['No' 'Fiber optic' 'DSL']\n",
      "\n",
      " \n",
      "Coluna:  OnlineSecurity Valores:  ['No internet service' 'No' 'Yes']\n",
      "\n",
      " \n",
      "Coluna:  OnlineBackup Valores:  ['No internet service' 'Yes' 'No']\n",
      "\n",
      " \n",
      "Coluna:  DeviceProtection Valores:  ['No internet service' 'Yes' 'No']\n",
      "\n",
      " \n",
      "Coluna:  TechSupport Valores:  ['No internet service' 'No' 'Yes']\n",
      "\n",
      " \n",
      "Coluna:  StreamingTV Valores:  ['No internet service' 'Yes' 'No']\n",
      "\n",
      " \n",
      "Coluna:  StreamingMovies Valores:  ['No internet service' 'No' 'Yes']\n",
      "\n",
      " \n",
      "Coluna:  Contract Valores:  ['Two year' 'Month-to-month' 'One year']\n",
      "\n",
      " \n",
      "Coluna:  PaperlessBilling Valores:  ['No' 'Yes']\n",
      "\n",
      " \n",
      "Coluna:  PaymentMethod Valores:  ['Credit card (automatic)' 'Bank transfer (automatic)' 'Electronic check'\n",
      " 'Mailed check']\n",
      "\n",
      " \n",
      "Coluna:  Churn Valores:  ['No' 'Yes']\n"
     ]
    }
   ],
   "source": [
    "for col in df[cat_columns].columns:\n",
    "    print('\\n ')\n",
    "    print('Coluna: ',col, 'Valores: ', df[col].unique())"
   ]
  },
  {
   "cell_type": "code",
   "execution_count": 7,
   "metadata": {
    "scrolled": true
   },
   "outputs": [
    {
     "name": "stdout",
     "output_type": "stream",
     "text": [
      "\n",
      " \n",
      "Coluna:  TotalCharges Valores:    999.9\n",
      "\n",
      " \n",
      "Coluna:  MonthlyCharges Valores:  18.25 118.75\n",
      "\n",
      " \n",
      "Coluna:  tenure Valores:  0 72\n"
     ]
    }
   ],
   "source": [
    "for col in df[num_columns].columns:\n",
    "    print('\\n ')\n",
    "    print('Coluna: ',col, 'Valores: ', df[col].min(), df[col].max())"
   ]
  },
  {
   "cell_type": "code",
   "execution_count": 8,
   "metadata": {},
   "outputs": [],
   "source": [
    "df['TotalCharges'] =  df['TotalCharges'].replace(' ', 0)\n",
    "df['TotalCharges'] =  df['TotalCharges'].astype(float)"
   ]
  },
  {
   "cell_type": "code",
   "execution_count": 9,
   "metadata": {},
   "outputs": [
    {
     "name": "stdout",
     "output_type": "stream",
     "text": [
      "\n",
      " \n",
      "Coluna:  TotalCharges Valores:  0.0 8684.8\n",
      "\n",
      " \n",
      "Coluna:  MonthlyCharges Valores:  18.25 118.75\n",
      "\n",
      " \n",
      "Coluna:  tenure Valores:  0 72\n"
     ]
    }
   ],
   "source": [
    "for col in df[num_columns].columns:\n",
    "    print('\\n ')\n",
    "    print('Coluna: ',col, 'Valores: ', df[col].min(), df[col].max())"
   ]
  },
  {
   "cell_type": "code",
   "execution_count": 10,
   "metadata": {},
   "outputs": [
    {
     "name": "stdout",
     "output_type": "stream",
     "text": [
      "TotalCharges média: 2294.2215586368193\n",
      "tenure média: 32.46876044102907\n"
     ]
    }
   ],
   "source": [
    "print('TotalCharges média:', df['TotalCharges'].mean())\n",
    "print('tenure média:', df['tenure'].mean())"
   ]
  },
  {
   "cell_type": "code",
   "execution_count": 11,
   "metadata": {},
   "outputs": [],
   "source": [
    "df['TotalCharges'] =  df['TotalCharges'].replace(0, 2298.06)\n",
    "df['tenure'] =  df['tenure'].replace(0,29)"
   ]
  },
  {
   "cell_type": "code",
   "execution_count": 12,
   "metadata": {},
   "outputs": [
    {
     "data": {
      "text/plain": [
       "<AxesSubplot:>"
      ]
     },
     "execution_count": 12,
     "metadata": {},
     "output_type": "execute_result"
    },
    {
     "data": {
      "image/png": "[encoded data removed]",
      "text/plain": [
       "<Figure size 432x288 with 1 Axes>"
      ]
     },
     "metadata": {
      "needs_background": "light"
     },
     "output_type": "display_data"
    }
   ],
   "source": [
    "df['MonthlyCharges'].hist()"
   ]
  },
  {
   "cell_type": "code",
   "execution_count": 13,
   "metadata": {},
   "outputs": [
    {
     "data": {
      "text/plain": [
       "count    5986.000000\n",
       "mean       32.517207\n",
       "std        24.480803\n",
       "min         1.000000\n",
       "25%         9.000000\n",
       "50%        29.000000\n",
       "75%        56.000000\n",
       "max        72.000000\n",
       "Name: tenure, dtype: float64"
      ]
     },
     "execution_count": 13,
     "metadata": {},
     "output_type": "execute_result"
    }
   ],
   "source": [
    "df['tenure'].describe()"
   ]
  },
  {
   "cell_type": "code",
   "execution_count": 14,
   "metadata": {},
   "outputs": [
    {
     "data": {
      "text/plain": [
       "<AxesSubplot:>"
      ]
     },
     "execution_count": 14,
     "metadata": {},
     "output_type": "execute_result"
    },
    {
     "data": {
      "image/png": "[encoded data removed]",
      "text/plain": [
       "<Figure size 432x288 with 1 Axes>"
      ]
     },
     "metadata": {
      "needs_background": "light"
     },
     "output_type": "display_data"
    }
   ],
   "source": [
    "df['tenure'].hist()"
   ]
  },
  {
   "cell_type": "code",
   "execution_count": 15,
   "metadata": {},
   "outputs": [
    {
     "data": {
      "text/html": [
       "<div>\n",
       "<style scoped>\n",
       "    .dataframe tbody tr th:only-of-type {\n",
       "        vertical-align: middle;\n",
       "    }\n",
       "\n",
       "    .dataframe tbody tr th {\n",
       "        vertical-align: top;\n",
       "    }\n",
       "\n",
       "    .dataframe thead th {\n",
       "        text-align: right;\n",
       "    }\n",
       "</style>\n",
       "<table border=\"1\" class=\"dataframe\">\n",
       "  <thead>\n",
       "    <tr style=\"text-align: right;\">\n",
       "      <th></th>\n",
       "      <th>Unnamed: 0</th>\n",
       "      <th>SeniorCitizen</th>\n",
       "      <th>tenure</th>\n",
       "      <th>MonthlyCharges</th>\n",
       "      <th>TotalCharges</th>\n",
       "    </tr>\n",
       "  </thead>\n",
       "  <tbody>\n",
       "    <tr>\n",
       "      <th>count</th>\n",
       "      <td>5986.000000</td>\n",
       "      <td>5986.000000</td>\n",
       "      <td>5986.000000</td>\n",
       "      <td>5986.000000</td>\n",
       "      <td>5986.000000</td>\n",
       "    </tr>\n",
       "    <tr>\n",
       "      <th>mean</th>\n",
       "      <td>3533.561310</td>\n",
       "      <td>0.161377</td>\n",
       "      <td>32.517207</td>\n",
       "      <td>64.802213</td>\n",
       "      <td>2298.060616</td>\n",
       "    </tr>\n",
       "    <tr>\n",
       "      <th>std</th>\n",
       "      <td>2035.705666</td>\n",
       "      <td>0.367909</td>\n",
       "      <td>24.480803</td>\n",
       "      <td>30.114702</td>\n",
       "      <td>2272.226516</td>\n",
       "    </tr>\n",
       "    <tr>\n",
       "      <th>min</th>\n",
       "      <td>0.000000</td>\n",
       "      <td>0.000000</td>\n",
       "      <td>1.000000</td>\n",
       "      <td>18.250000</td>\n",
       "      <td>18.800000</td>\n",
       "    </tr>\n",
       "    <tr>\n",
       "      <th>25%</th>\n",
       "      <td>1777.250000</td>\n",
       "      <td>0.000000</td>\n",
       "      <td>9.000000</td>\n",
       "      <td>35.650000</td>\n",
       "      <td>406.275000</td>\n",
       "    </tr>\n",
       "    <tr>\n",
       "      <th>50%</th>\n",
       "      <td>3546.500000</td>\n",
       "      <td>0.000000</td>\n",
       "      <td>29.000000</td>\n",
       "      <td>70.400000</td>\n",
       "      <td>1414.550000</td>\n",
       "    </tr>\n",
       "    <tr>\n",
       "      <th>75%</th>\n",
       "      <td>5291.750000</td>\n",
       "      <td>0.000000</td>\n",
       "      <td>56.000000</td>\n",
       "      <td>89.900000</td>\n",
       "      <td>3841.500000</td>\n",
       "    </tr>\n",
       "    <tr>\n",
       "      <th>max</th>\n",
       "      <td>7042.000000</td>\n",
       "      <td>1.000000</td>\n",
       "      <td>72.000000</td>\n",
       "      <td>118.750000</td>\n",
       "      <td>8684.800000</td>\n",
       "    </tr>\n",
       "  </tbody>\n",
       "</table>\n",
       "</div>"
      ],
      "text/plain": [
       "        Unnamed: 0  SeniorCitizen       tenure  MonthlyCharges  TotalCharges\n",
       "count  5986.000000    5986.000000  5986.000000     5986.000000   5986.000000\n",
       "mean   3533.561310       0.161377    32.517207       64.802213   2298.060616\n",
       "std    2035.705666       0.367909    24.480803       30.114702   2272.226516\n",
       "min       0.000000       0.000000     1.000000       18.250000     18.800000\n",
       "25%    1777.250000       0.000000     9.000000       35.650000    406.275000\n",
       "50%    3546.500000       0.000000    29.000000       70.400000   1414.550000\n",
       "75%    5291.750000       0.000000    56.000000       89.900000   3841.500000\n",
       "max    7042.000000       1.000000    72.000000      118.750000   8684.800000"
      ]
     },
     "execution_count": 15,
     "metadata": {},
     "output_type": "execute_result"
    }
   ],
   "source": [
    "df.describe()"
   ]
  },
  {
   "cell_type": "code",
   "execution_count": 16,
   "metadata": {},
   "outputs": [
    {
     "data": {
      "text/plain": [
       "count               5986\n",
       "unique                 3\n",
       "top       Month-to-month\n",
       "freq                3269\n",
       "Name: Contract, dtype: object"
      ]
     },
     "execution_count": 16,
     "metadata": {},
     "output_type": "execute_result"
    }
   ],
   "source": [
    "df['Contract'].describe()"
   ]
  },
  {
   "cell_type": "code",
   "execution_count": 17,
   "metadata": {},
   "outputs": [
    {
     "data": {
      "text/plain": [
       "<AxesSubplot:>"
      ]
     },
     "execution_count": 17,
     "metadata": {},
     "output_type": "execute_result"
    },
    {
     "data": {
      "image/png": "[encoded data removed]",
      "text/plain": [
       "<Figure size 432x288 with 1 Axes>"
      ]
     },
     "metadata": {
      "needs_background": "light"
     },
     "output_type": "display_data"
    }
   ],
   "source": [
    "df['Contract'].hist()"
   ]
  },
  {
   "cell_type": "code",
   "execution_count": 18,
   "metadata": {},
   "outputs": [
    {
     "data": {
      "text/plain": [
       "<AxesSubplot:xlabel='Contract'>"
      ]
     },
     "execution_count": 18,
     "metadata": {},
     "output_type": "execute_result"
    },
    {
     "data": {
      "image/png": "[encoded data removed]",
      "text/plain": [
       "<Figure size 432x288 with 1 Axes>"
      ]
     },
     "metadata": {
      "needs_background": "light"
     },
     "output_type": "display_data"
    }
   ],
   "source": [
    "df.groupby([\"Contract\"])[\"tenure\"].mean().plot.bar()"
   ]
  },
  {
   "cell_type": "code",
   "execution_count": 19,
   "metadata": {},
   "outputs": [
    {
     "data": {
      "text/plain": [
       "<AxesSubplot:>"
      ]
     },
     "execution_count": 19,
     "metadata": {},
     "output_type": "execute_result"
    },
    {
     "data": {
      "image/png": "[encoded data removed]",
      "text/plain": [
       "<Figure size 432x288 with 1 Axes>"
      ]
     },
     "metadata": {
      "needs_background": "light"
     },
     "output_type": "display_data"
    }
   ],
   "source": [
    "df['Contract'].hist()"
   ]
  },
  {
   "cell_type": "code",
   "execution_count": 20,
   "metadata": {},
   "outputs": [
    {
     "data": {
      "text/plain": [
       "<AxesSubplot:ylabel='gender'>"
      ]
     },
     "execution_count": 20,
     "metadata": {},
     "output_type": "execute_result"
    },
    {
     "data": {
      "image/png": "[encoded data removed]",
      "text/plain": [
       "<Figure size 432x288 with 1 Axes>"
      ]
     },
     "metadata": {},
     "output_type": "display_data"
    }
   ],
   "source": [
    "df.groupby(['gender'])['gender'].count().plot.pie()"
   ]
  },
  {
   "cell_type": "code",
   "execution_count": 21,
   "metadata": {},
   "outputs": [
    {
     "data": {
      "text/plain": [
       "<AxesSubplot:ylabel='SeniorCitizen'>"
      ]
     },
     "execution_count": 21,
     "metadata": {},
     "output_type": "execute_result"
    },
    {
     "data": {
      "image/png": "[encoded data removed]",
      "text/plain": [
       "<Figure size 432x288 with 1 Axes>"
      ]
     },
     "metadata": {},
     "output_type": "display_data"
    }
   ],
   "source": [
    "df.groupby(['SeniorCitizen'])['SeniorCitizen'].count().plot.pie()"
   ]
  },
  {
   "cell_type": "code",
   "execution_count": 22,
   "metadata": {},
   "outputs": [
    {
     "data": {
      "text/plain": [
       "<AxesSubplot:xlabel='PhoneService'>"
      ]
     },
     "execution_count": 22,
     "metadata": {},
     "output_type": "execute_result"
    },
    {
     "data": {
      "image/png": "[encoded data removed]",
      "text/plain": [
       "<Figure size 432x288 with 1 Axes>"
      ]
     },
     "metadata": {
      "needs_background": "light"
     },
     "output_type": "display_data"
    }
   ],
   "source": [
    "df.groupby(['PhoneService'])['PhoneService'].count().plot.bar()"
   ]
  },
  {
   "cell_type": "code",
   "execution_count": 23,
   "metadata": {},
   "outputs": [
    {
     "data": {
      "text/plain": [
       "<AxesSubplot:ylabel='Partner'>"
      ]
     },
     "execution_count": 23,
     "metadata": {},
     "output_type": "execute_result"
    },
    {
     "data": {
      "image/png": "[encoded data removed]",
      "text/plain": [
       "<Figure size 432x288 with 1 Axes>"
      ]
     },
     "metadata": {},
     "output_type": "display_data"
    }
   ],
   "source": [
    "df.groupby(['Partner'])['Partner'].count().plot.pie()"
   ]
  },
  {
   "cell_type": "code",
   "execution_count": 24,
   "metadata": {},
   "outputs": [
    {
     "data": {
      "text/plain": [
       "<AxesSubplot:ylabel='Dependents'>"
      ]
     },
     "execution_count": 24,
     "metadata": {},
     "output_type": "execute_result"
    },
    {
     "data": {
      "image/png": "[encoded data removed]",
      "text/plain": [
       "<Figure size 432x288 with 1 Axes>"
      ]
     },
     "metadata": {},
     "output_type": "display_data"
    }
   ],
   "source": [
    "df.groupby(['Dependents'])['Dependents'].count().plot.pie()"
   ]
  },
  {
   "cell_type": "code",
   "execution_count": 25,
   "metadata": {},
   "outputs": [
    {
     "data": {
      "text/plain": [
       "64.80221349816237"
      ]
     },
     "execution_count": 25,
     "metadata": {},
     "output_type": "execute_result"
    }
   ],
   "source": [
    "df['MonthlyCharges'].mean()"
   ]
  },
  {
   "cell_type": "code",
   "execution_count": 26,
   "metadata": {},
   "outputs": [
    {
     "data": {
      "text/plain": [
       "5396"
      ]
     },
     "execution_count": 26,
     "metadata": {},
     "output_type": "execute_result"
    }
   ],
   "source": [
    "df[df['PhoneService']=='Yes']['PhoneService'].count()\n"
   ]
  },
  {
   "cell_type": "code",
   "execution_count": 27,
   "metadata": {},
   "outputs": [
    {
     "data": {
      "text/plain": [
       "4695"
      ]
     },
     "execution_count": 27,
     "metadata": {},
     "output_type": "execute_result"
    }
   ],
   "source": [
    "df[df['InternetService']!='No']['InternetService'].count()"
   ]
  },
  {
   "cell_type": "code",
   "execution_count": 28,
   "metadata": {},
   "outputs": [
    {
     "data": {
      "text/plain": [
       "4105"
      ]
     },
     "execution_count": 28,
     "metadata": {},
     "output_type": "execute_result"
    }
   ],
   "source": [
    "df[(df['PhoneService']=='Yes') & (df['InternetService']!='No')]['PhoneService'].count()"
   ]
  },
  {
   "cell_type": "code",
   "execution_count": 29,
   "metadata": {},
   "outputs": [
    {
     "data": {
      "text/plain": [
       "<AxesSubplot:xlabel='InternetService'>"
      ]
     },
     "execution_count": 29,
     "metadata": {},
     "output_type": "execute_result"
    },
    {
     "data": {
      "image/png": "[encoded data removed]",
      "text/plain": [
       "<Figure size 432x288 with 1 Axes>"
      ]
     },
     "metadata": {
      "needs_background": "light"
     },
     "output_type": "display_data"
    }
   ],
   "source": [
    "df.groupby(['InternetService'])['InternetService'].count().plot.bar()"
   ]
  },
  {
   "cell_type": "code",
   "execution_count": 30,
   "metadata": {},
   "outputs": [
    {
     "data": {
      "text/plain": [
       "<AxesSubplot:ylabel='Contract'>"
      ]
     },
     "execution_count": 30,
     "metadata": {},
     "output_type": "execute_result"
    },
    {
     "data": {
      "image/png": "[encoded data removed]",
      "text/plain": [
       "<Figure size 360x360 with 1 Axes>"
      ]
     },
     "metadata": {},
     "output_type": "display_data"
    }
   ],
   "source": [
    "df_contracts = df.groupby(['Contract']).Contract.count()\n",
    "df_contracts.plot.pie(y='Contract', figsize=(5, 5))"
   ]
  },
  {
   "cell_type": "code",
   "execution_count": 31,
   "metadata": {},
   "outputs": [
    {
     "data": {
      "text/plain": [
       "<AxesSubplot:ylabel='PaymentMethod'>"
      ]
     },
     "execution_count": 31,
     "metadata": {},
     "output_type": "execute_result"
    },
    {
     "data": {
      "image/png": "[encoded data removed]",
      "text/plain": [
       "<Figure size 360x360 with 1 Axes>"
      ]
     },
     "metadata": {},
     "output_type": "display_data"
    }
   ],
   "source": [
    "df_payments = df.groupby(['PaymentMethod']).PaymentMethod.count()\n",
    "df_payments.plot.pie(y='PaymentMethod', figsize=(5, 5))"
   ]
  },
  {
   "cell_type": "code",
   "execution_count": 32,
   "metadata": {},
   "outputs": [
    {
     "data": {
      "text/html": [
       "<div>\n",
       "<style scoped>\n",
       "    .dataframe tbody tr th:only-of-type {\n",
       "        vertical-align: middle;\n",
       "    }\n",
       "\n",
       "    .dataframe tbody tr th {\n",
       "        vertical-align: top;\n",
       "    }\n",
       "\n",
       "    .dataframe thead tr th {\n",
       "        text-align: left;\n",
       "    }\n",
       "\n",
       "    .dataframe thead tr:last-of-type th {\n",
       "        text-align: right;\n",
       "    }\n",
       "</style>\n",
       "<table border=\"1\" class=\"dataframe\">\n",
       "  <thead>\n",
       "    <tr>\n",
       "      <th>gender</th>\n",
       "      <th colspan=\"8\" halign=\"left\">Female</th>\n",
       "      <th colspan=\"8\" halign=\"left\">Male</th>\n",
       "    </tr>\n",
       "    <tr>\n",
       "      <th>SeniorCitizen</th>\n",
       "      <th colspan=\"4\" halign=\"left\">0</th>\n",
       "      <th colspan=\"4\" halign=\"left\">1</th>\n",
       "      <th colspan=\"4\" halign=\"left\">0</th>\n",
       "      <th colspan=\"4\" halign=\"left\">1</th>\n",
       "    </tr>\n",
       "    <tr>\n",
       "      <th>Partner</th>\n",
       "      <th colspan=\"2\" halign=\"left\">No</th>\n",
       "      <th colspan=\"2\" halign=\"left\">Yes</th>\n",
       "      <th colspan=\"2\" halign=\"left\">No</th>\n",
       "      <th colspan=\"2\" halign=\"left\">Yes</th>\n",
       "      <th colspan=\"2\" halign=\"left\">No</th>\n",
       "      <th colspan=\"2\" halign=\"left\">Yes</th>\n",
       "      <th colspan=\"2\" halign=\"left\">No</th>\n",
       "      <th colspan=\"2\" halign=\"left\">Yes</th>\n",
       "    </tr>\n",
       "    <tr>\n",
       "      <th>Dependents</th>\n",
       "      <th>No</th>\n",
       "      <th>Yes</th>\n",
       "      <th>No</th>\n",
       "      <th>Yes</th>\n",
       "      <th>No</th>\n",
       "      <th>Yes</th>\n",
       "      <th>No</th>\n",
       "      <th>Yes</th>\n",
       "      <th>No</th>\n",
       "      <th>Yes</th>\n",
       "      <th>No</th>\n",
       "      <th>Yes</th>\n",
       "      <th>No</th>\n",
       "      <th>Yes</th>\n",
       "      <th>No</th>\n",
       "      <th>Yes</th>\n",
       "    </tr>\n",
       "    <tr>\n",
       "      <th>Churn</th>\n",
       "      <th></th>\n",
       "      <th></th>\n",
       "      <th></th>\n",
       "      <th></th>\n",
       "      <th></th>\n",
       "      <th></th>\n",
       "      <th></th>\n",
       "      <th></th>\n",
       "      <th></th>\n",
       "      <th></th>\n",
       "      <th></th>\n",
       "      <th></th>\n",
       "      <th></th>\n",
       "      <th></th>\n",
       "      <th></th>\n",
       "      <th></th>\n",
       "    </tr>\n",
       "  </thead>\n",
       "  <tbody>\n",
       "    <tr>\n",
       "      <th>No</th>\n",
       "      <td>758</td>\n",
       "      <td>94</td>\n",
       "      <td>414</td>\n",
       "      <td>603</td>\n",
       "      <td>131</td>\n",
       "      <td>2</td>\n",
       "      <td>117</td>\n",
       "      <td>26</td>\n",
       "      <td>831</td>\n",
       "      <td>141</td>\n",
       "      <td>377</td>\n",
       "      <td>617</td>\n",
       "      <td>110</td>\n",
       "      <td>4</td>\n",
       "      <td>151</td>\n",
       "      <td>23</td>\n",
       "    </tr>\n",
       "    <tr>\n",
       "      <th>Yes</th>\n",
       "      <td>353</td>\n",
       "      <td>28</td>\n",
       "      <td>99</td>\n",
       "      <td>105</td>\n",
       "      <td>133</td>\n",
       "      <td>1</td>\n",
       "      <td>65</td>\n",
       "      <td>7</td>\n",
       "      <td>360</td>\n",
       "      <td>36</td>\n",
       "      <td>110</td>\n",
       "      <td>94</td>\n",
       "      <td>99</td>\n",
       "      <td>1</td>\n",
       "      <td>87</td>\n",
       "      <td>9</td>\n",
       "    </tr>\n",
       "  </tbody>\n",
       "</table>\n",
       "</div>"
      ],
      "text/plain": [
       "gender        Female                                 Male                      \\\n",
       "SeniorCitizen      0                  1                 0                   1   \n",
       "Partner           No      Yes        No      Yes       No       Yes        No   \n",
       "Dependents        No Yes   No  Yes   No Yes   No Yes   No  Yes   No  Yes   No   \n",
       "Churn                                                                           \n",
       "No               758  94  414  603  131   2  117  26  831  141  377  617  110   \n",
       "Yes              353  28   99  105  133   1   65   7  360   36  110   94   99   \n",
       "\n",
       "gender                      \n",
       "SeniorCitizen               \n",
       "Partner            Yes      \n",
       "Dependents    Yes   No Yes  \n",
       "Churn                       \n",
       "No              4  151  23  \n",
       "Yes             1   87   9  "
      ]
     },
     "execution_count": 32,
     "metadata": {},
     "output_type": "execute_result"
    }
   ],
   "source": [
    "df.groupby([\"gender\", \"SeniorCitizen\", \"Partner\", \"Dependents\", \"Churn\"])[\"Churn\"].count().unstack(['gender', \"SeniorCitizen\", \"Partner\", \"Dependents\"])"
   ]
  },
  {
   "cell_type": "code",
   "execution_count": 33,
   "metadata": {},
   "outputs": [
    {
     "data": {
      "text/html": [
       "<div>\n",
       "<style scoped>\n",
       "    .dataframe tbody tr th:only-of-type {\n",
       "        vertical-align: middle;\n",
       "    }\n",
       "\n",
       "    .dataframe tbody tr th {\n",
       "        vertical-align: top;\n",
       "    }\n",
       "\n",
       "    .dataframe thead th {\n",
       "        text-align: right;\n",
       "    }\n",
       "</style>\n",
       "<table border=\"1\" class=\"dataframe\">\n",
       "  <thead>\n",
       "    <tr style=\"text-align: right;\">\n",
       "      <th>Contract</th>\n",
       "      <th>Month-to-month</th>\n",
       "      <th>One year</th>\n",
       "      <th>Two year</th>\n",
       "    </tr>\n",
       "    <tr>\n",
       "      <th>Churn</th>\n",
       "      <th></th>\n",
       "      <th></th>\n",
       "      <th></th>\n",
       "    </tr>\n",
       "  </thead>\n",
       "  <tbody>\n",
       "    <tr>\n",
       "      <th>No</th>\n",
       "      <td>1871</td>\n",
       "      <td>1128</td>\n",
       "      <td>1400</td>\n",
       "    </tr>\n",
       "    <tr>\n",
       "      <th>Yes</th>\n",
       "      <td>1398</td>\n",
       "      <td>148</td>\n",
       "      <td>41</td>\n",
       "    </tr>\n",
       "  </tbody>\n",
       "</table>\n",
       "</div>"
      ],
      "text/plain": [
       "Contract  Month-to-month  One year  Two year\n",
       "Churn                                       \n",
       "No                  1871      1128      1400\n",
       "Yes                 1398       148        41"
      ]
     },
     "execution_count": 33,
     "metadata": {},
     "output_type": "execute_result"
    }
   ],
   "source": [
    "df.groupby([\"Contract\", \"Churn\"])[\"Churn\"].count().unstack('Contract')"
   ]
  },
  {
   "cell_type": "code",
   "execution_count": 34,
   "metadata": {},
   "outputs": [
    {
     "data": {
      "text/plain": [
       "<AxesSubplot:xlabel='Contract'>"
      ]
     },
     "execution_count": 34,
     "metadata": {},
     "output_type": "execute_result"
    },
    {
     "data": {
      "image/png": "[encoded data removed]",
      "text/plain": [
       "<Figure size 432x288 with 1 Axes>"
      ]
     },
     "metadata": {
      "needs_background": "light"
     },
     "output_type": "display_data"
    }
   ],
   "source": [
    "df.groupby([\"Contract\", \"Churn\"])[\"Churn\"].count().unstack('Churn').plot.bar()"
   ]
  },
  {
   "cell_type": "code",
   "execution_count": 35,
   "metadata": {},
   "outputs": [
    {
     "data": {
      "text/html": [
       "<div>\n",
       "<style scoped>\n",
       "    .dataframe tbody tr th:only-of-type {\n",
       "        vertical-align: middle;\n",
       "    }\n",
       "\n",
       "    .dataframe tbody tr th {\n",
       "        vertical-align: top;\n",
       "    }\n",
       "\n",
       "    .dataframe thead th {\n",
       "        text-align: right;\n",
       "    }\n",
       "</style>\n",
       "<table border=\"1\" class=\"dataframe\">\n",
       "  <thead>\n",
       "    <tr style=\"text-align: right;\">\n",
       "      <th>Churn</th>\n",
       "      <th>No</th>\n",
       "      <th>Yes</th>\n",
       "    </tr>\n",
       "    <tr>\n",
       "      <th>PaymentMethod</th>\n",
       "      <th></th>\n",
       "      <th></th>\n",
       "    </tr>\n",
       "  </thead>\n",
       "  <tbody>\n",
       "    <tr>\n",
       "      <th>Bank transfer (automatic)</th>\n",
       "      <td>1084</td>\n",
       "      <td>224</td>\n",
       "    </tr>\n",
       "    <tr>\n",
       "      <th>Credit card (automatic)</th>\n",
       "      <td>1105</td>\n",
       "      <td>198</td>\n",
       "    </tr>\n",
       "    <tr>\n",
       "      <th>Electronic check</th>\n",
       "      <td>1104</td>\n",
       "      <td>902</td>\n",
       "    </tr>\n",
       "    <tr>\n",
       "      <th>Mailed check</th>\n",
       "      <td>1106</td>\n",
       "      <td>263</td>\n",
       "    </tr>\n",
       "  </tbody>\n",
       "</table>\n",
       "</div>"
      ],
      "text/plain": [
       "Churn                        No  Yes\n",
       "PaymentMethod                       \n",
       "Bank transfer (automatic)  1084  224\n",
       "Credit card (automatic)    1105  198\n",
       "Electronic check           1104  902\n",
       "Mailed check               1106  263"
      ]
     },
     "execution_count": 35,
     "metadata": {},
     "output_type": "execute_result"
    }
   ],
   "source": [
    "df.groupby([\"PaymentMethod\", \"Churn\"])[\"Churn\"].count().unstack('Churn')"
   ]
  },
  {
   "cell_type": "code",
   "execution_count": 36,
   "metadata": {},
   "outputs": [
    {
     "data": {
      "text/plain": [
       "<AxesSubplot:xlabel='PaymentMethod'>"
      ]
     },
     "execution_count": 36,
     "metadata": {},
     "output_type": "execute_result"
    },
    {
     "data": {
      "image/png": "[encoded data removed]",
      "text/plain": [
       "<Figure size 432x288 with 1 Axes>"
      ]
     },
     "metadata": {
      "needs_background": "light"
     },
     "output_type": "display_data"
    }
   ],
   "source": [
    "df.groupby([\"PaymentMethod\", \"Churn\"])[\"Churn\"].count().unstack('Churn').plot.bar()"
   ]
  },
  {
   "cell_type": "code",
   "execution_count": 37,
   "metadata": {
    "scrolled": true
   },
   "outputs": [
    {
     "data": {
      "text/plain": [
       "PhoneService\n",
       "No      590\n",
       "Yes    5396\n",
       "Name: PhoneService, dtype: int64"
      ]
     },
     "execution_count": 37,
     "metadata": {},
     "output_type": "execute_result"
    }
   ],
   "source": [
    "df.groupby(['PhoneService'])['PhoneService'].count()"
   ]
  },
  {
   "cell_type": "code",
   "execution_count": 38,
   "metadata": {},
   "outputs": [
    {
     "data": {
      "text/plain": [
       "Churn\n",
       "No     4399\n",
       "Yes    1587\n",
       "Name: customerID, dtype: int64"
      ]
     },
     "execution_count": 38,
     "metadata": {},
     "output_type": "execute_result"
    }
   ],
   "source": [
    "df.groupby('Churn')['customerID'].count()"
   ]
  },
  {
   "cell_type": "code",
   "execution_count": 39,
   "metadata": {},
   "outputs": [
    {
     "data": {
      "text/html": [
       "<div>\n",
       "<style scoped>\n",
       "    .dataframe tbody tr th:only-of-type {\n",
       "        vertical-align: middle;\n",
       "    }\n",
       "\n",
       "    .dataframe tbody tr th {\n",
       "        vertical-align: top;\n",
       "    }\n",
       "\n",
       "    .dataframe thead th {\n",
       "        text-align: right;\n",
       "    }\n",
       "</style>\n",
       "<table border=\"1\" class=\"dataframe\">\n",
       "  <thead>\n",
       "    <tr style=\"text-align: right;\">\n",
       "      <th></th>\n",
       "      <th>Unnamed: 0</th>\n",
       "      <th>customerID</th>\n",
       "      <th>gender</th>\n",
       "      <th>SeniorCitizen</th>\n",
       "      <th>Partner</th>\n",
       "      <th>Dependents</th>\n",
       "      <th>tenure</th>\n",
       "      <th>PhoneService</th>\n",
       "      <th>MultipleLines</th>\n",
       "      <th>InternetService</th>\n",
       "      <th>...</th>\n",
       "      <th>TechSupport</th>\n",
       "      <th>StreamingTV</th>\n",
       "      <th>StreamingMovies</th>\n",
       "      <th>Contract</th>\n",
       "      <th>PaperlessBilling</th>\n",
       "      <th>PaymentMethod</th>\n",
       "      <th>MonthlyCharges</th>\n",
       "      <th>TotalCharges</th>\n",
       "      <th>Churn</th>\n",
       "      <th>churn_i</th>\n",
       "    </tr>\n",
       "  </thead>\n",
       "  <tbody>\n",
       "    <tr>\n",
       "      <th>0</th>\n",
       "      <td>1869</td>\n",
       "      <td>7010-BRBUU</td>\n",
       "      <td>Male</td>\n",
       "      <td>0</td>\n",
       "      <td>Yes</td>\n",
       "      <td>Yes</td>\n",
       "      <td>72</td>\n",
       "      <td>Yes</td>\n",
       "      <td>Yes</td>\n",
       "      <td>No</td>\n",
       "      <td>...</td>\n",
       "      <td>No internet service</td>\n",
       "      <td>No internet service</td>\n",
       "      <td>No internet service</td>\n",
       "      <td>Two year</td>\n",
       "      <td>No</td>\n",
       "      <td>Credit card (automatic)</td>\n",
       "      <td>24.10</td>\n",
       "      <td>1734.65</td>\n",
       "      <td>No</td>\n",
       "      <td>0</td>\n",
       "    </tr>\n",
       "    <tr>\n",
       "      <th>1</th>\n",
       "      <td>4528</td>\n",
       "      <td>9688-YGXVR</td>\n",
       "      <td>Female</td>\n",
       "      <td>0</td>\n",
       "      <td>No</td>\n",
       "      <td>No</td>\n",
       "      <td>44</td>\n",
       "      <td>Yes</td>\n",
       "      <td>No</td>\n",
       "      <td>Fiber optic</td>\n",
       "      <td>...</td>\n",
       "      <td>No</td>\n",
       "      <td>Yes</td>\n",
       "      <td>No</td>\n",
       "      <td>Month-to-month</td>\n",
       "      <td>Yes</td>\n",
       "      <td>Credit card (automatic)</td>\n",
       "      <td>88.15</td>\n",
       "      <td>3973.20</td>\n",
       "      <td>No</td>\n",
       "      <td>0</td>\n",
       "    </tr>\n",
       "    <tr>\n",
       "      <th>2</th>\n",
       "      <td>6344</td>\n",
       "      <td>9286-DOJGF</td>\n",
       "      <td>Female</td>\n",
       "      <td>1</td>\n",
       "      <td>Yes</td>\n",
       "      <td>No</td>\n",
       "      <td>38</td>\n",
       "      <td>Yes</td>\n",
       "      <td>Yes</td>\n",
       "      <td>Fiber optic</td>\n",
       "      <td>...</td>\n",
       "      <td>No</td>\n",
       "      <td>No</td>\n",
       "      <td>No</td>\n",
       "      <td>Month-to-month</td>\n",
       "      <td>Yes</td>\n",
       "      <td>Bank transfer (automatic)</td>\n",
       "      <td>74.95</td>\n",
       "      <td>2869.85</td>\n",
       "      <td>Yes</td>\n",
       "      <td>1</td>\n",
       "    </tr>\n",
       "    <tr>\n",
       "      <th>3</th>\n",
       "      <td>6739</td>\n",
       "      <td>6994-KERXL</td>\n",
       "      <td>Male</td>\n",
       "      <td>0</td>\n",
       "      <td>No</td>\n",
       "      <td>No</td>\n",
       "      <td>4</td>\n",
       "      <td>Yes</td>\n",
       "      <td>No</td>\n",
       "      <td>DSL</td>\n",
       "      <td>...</td>\n",
       "      <td>No</td>\n",
       "      <td>No</td>\n",
       "      <td>Yes</td>\n",
       "      <td>Month-to-month</td>\n",
       "      <td>Yes</td>\n",
       "      <td>Electronic check</td>\n",
       "      <td>55.90</td>\n",
       "      <td>238.50</td>\n",
       "      <td>No</td>\n",
       "      <td>0</td>\n",
       "    </tr>\n",
       "    <tr>\n",
       "      <th>4</th>\n",
       "      <td>432</td>\n",
       "      <td>2181-UAESM</td>\n",
       "      <td>Male</td>\n",
       "      <td>0</td>\n",
       "      <td>No</td>\n",
       "      <td>No</td>\n",
       "      <td>2</td>\n",
       "      <td>Yes</td>\n",
       "      <td>No</td>\n",
       "      <td>DSL</td>\n",
       "      <td>...</td>\n",
       "      <td>No</td>\n",
       "      <td>No</td>\n",
       "      <td>No</td>\n",
       "      <td>Month-to-month</td>\n",
       "      <td>No</td>\n",
       "      <td>Electronic check</td>\n",
       "      <td>53.45</td>\n",
       "      <td>119.50</td>\n",
       "      <td>No</td>\n",
       "      <td>0</td>\n",
       "    </tr>\n",
       "  </tbody>\n",
       "</table>\n",
       "<p>5 rows × 23 columns</p>\n",
       "</div>"
      ],
      "text/plain": [
       "   Unnamed: 0  customerID  gender  SeniorCitizen Partner Dependents  tenure  \\\n",
       "0        1869  7010-BRBUU    Male              0     Yes        Yes      72   \n",
       "1        4528  9688-YGXVR  Female              0      No         No      44   \n",
       "2        6344  9286-DOJGF  Female              1     Yes         No      38   \n",
       "3        6739  6994-KERXL    Male              0      No         No       4   \n",
       "4         432  2181-UAESM    Male              0      No         No       2   \n",
       "\n",
       "  PhoneService MultipleLines InternetService  ...          TechSupport  \\\n",
       "0          Yes           Yes              No  ...  No internet service   \n",
       "1          Yes            No     Fiber optic  ...                   No   \n",
       "2          Yes           Yes     Fiber optic  ...                   No   \n",
       "3          Yes            No             DSL  ...                   No   \n",
       "4          Yes            No             DSL  ...                   No   \n",
       "\n",
       "           StreamingTV      StreamingMovies        Contract PaperlessBilling  \\\n",
       "0  No internet service  No internet service        Two year               No   \n",
       "1                  Yes                   No  Month-to-month              Yes   \n",
       "2                   No                   No  Month-to-month              Yes   \n",
       "3                   No                  Yes  Month-to-month              Yes   \n",
       "4                   No                   No  Month-to-month               No   \n",
       "\n",
       "               PaymentMethod MonthlyCharges TotalCharges Churn  churn_i  \n",
       "0    Credit card (automatic)          24.10      1734.65    No        0  \n",
       "1    Credit card (automatic)          88.15      3973.20    No        0  \n",
       "2  Bank transfer (automatic)          74.95      2869.85   Yes        1  \n",
       "3           Electronic check          55.90       238.50    No        0  \n",
       "4           Electronic check          53.45       119.50    No        0  \n",
       "\n",
       "[5 rows x 23 columns]"
      ]
     },
     "execution_count": 39,
     "metadata": {},
     "output_type": "execute_result"
    }
   ],
   "source": [
    "churns = df['Churn'] == 'Yes'\n",
    "\n",
    "def churn_0_or_1(value):\n",
    "    if (value == 'Yes'):\n",
    "        return 1\n",
    "    else:\n",
    "        return 0\n",
    "\n",
    "\n",
    "df['churn_i'] = df['Churn'].apply(churn_0_or_1)\n",
    "\n",
    "df.head()"
   ]
  },
  {
   "cell_type": "code",
   "execution_count": 40,
   "metadata": {},
   "outputs": [
    {
     "data": {
      "text/plain": [
       "0.2651186100902105"
      ]
     },
     "execution_count": 40,
     "metadata": {},
     "output_type": "execute_result"
    }
   ],
   "source": [
    "df['churn_i'].mean()"
   ]
  },
  {
   "cell_type": "code",
   "execution_count": 41,
   "metadata": {},
   "outputs": [
    {
     "data": {
      "text/html": [
       "<div>\n",
       "<style scoped>\n",
       "    .dataframe tbody tr th:only-of-type {\n",
       "        vertical-align: middle;\n",
       "    }\n",
       "\n",
       "    .dataframe tbody tr th {\n",
       "        vertical-align: top;\n",
       "    }\n",
       "\n",
       "    .dataframe thead th {\n",
       "        text-align: right;\n",
       "    }\n",
       "</style>\n",
       "<table border=\"1\" class=\"dataframe\">\n",
       "  <thead>\n",
       "    <tr style=\"text-align: right;\">\n",
       "      <th></th>\n",
       "      <th>count</th>\n",
       "      <th>mean</th>\n",
       "      <th>std</th>\n",
       "      <th>min</th>\n",
       "      <th>25%</th>\n",
       "      <th>50%</th>\n",
       "      <th>75%</th>\n",
       "      <th>max</th>\n",
       "    </tr>\n",
       "  </thead>\n",
       "  <tbody>\n",
       "    <tr>\n",
       "      <th>tenure</th>\n",
       "      <td>1587.0</td>\n",
       "      <td>18.246377</td>\n",
       "      <td>19.667262</td>\n",
       "      <td>1.00</td>\n",
       "      <td>2.000</td>\n",
       "      <td>10.0</td>\n",
       "      <td>30.0</td>\n",
       "      <td>72.00</td>\n",
       "    </tr>\n",
       "    <tr>\n",
       "      <th>MonthlyCharges</th>\n",
       "      <td>1587.0</td>\n",
       "      <td>74.164871</td>\n",
       "      <td>24.965002</td>\n",
       "      <td>18.85</td>\n",
       "      <td>55.675</td>\n",
       "      <td>79.5</td>\n",
       "      <td>94.4</td>\n",
       "      <td>118.35</td>\n",
       "    </tr>\n",
       "  </tbody>\n",
       "</table>\n",
       "</div>"
      ],
      "text/plain": [
       "                 count       mean        std    min     25%   50%   75%  \\\n",
       "tenure          1587.0  18.246377  19.667262   1.00   2.000  10.0  30.0   \n",
       "MonthlyCharges  1587.0  74.164871  24.965002  18.85  55.675  79.5  94.4   \n",
       "\n",
       "                   max  \n",
       "tenure           72.00  \n",
       "MonthlyCharges  118.35  "
      ]
     },
     "execution_count": 41,
     "metadata": {},
     "output_type": "execute_result"
    }
   ],
   "source": [
    "df[df['Churn']=='Yes'][['tenure','MonthlyCharges']].describe().T"
   ]
  },
  {
   "cell_type": "code",
   "execution_count": 42,
   "metadata": {},
   "outputs": [
    {
     "data": {
      "text/html": [
       "<div>\n",
       "<style scoped>\n",
       "    .dataframe tbody tr th:only-of-type {\n",
       "        vertical-align: middle;\n",
       "    }\n",
       "\n",
       "    .dataframe tbody tr th {\n",
       "        vertical-align: top;\n",
       "    }\n",
       "\n",
       "    .dataframe thead th {\n",
       "        text-align: right;\n",
       "    }\n",
       "</style>\n",
       "<table border=\"1\" class=\"dataframe\">\n",
       "  <thead>\n",
       "    <tr style=\"text-align: right;\">\n",
       "      <th></th>\n",
       "      <th>count</th>\n",
       "      <th>mean</th>\n",
       "      <th>std</th>\n",
       "      <th>min</th>\n",
       "      <th>25%</th>\n",
       "      <th>50%</th>\n",
       "      <th>75%</th>\n",
       "      <th>max</th>\n",
       "    </tr>\n",
       "  </thead>\n",
       "  <tbody>\n",
       "    <tr>\n",
       "      <th>tenure</th>\n",
       "      <td>4399.0</td>\n",
       "      <td>37.665606</td>\n",
       "      <td>24.001663</td>\n",
       "      <td>1.00</td>\n",
       "      <td>15.000</td>\n",
       "      <td>37.00</td>\n",
       "      <td>61.0</td>\n",
       "      <td>72.00</td>\n",
       "    </tr>\n",
       "    <tr>\n",
       "      <th>MonthlyCharges</th>\n",
       "      <td>4399.0</td>\n",
       "      <td>61.424506</td>\n",
       "      <td>31.086101</td>\n",
       "      <td>18.25</td>\n",
       "      <td>25.125</td>\n",
       "      <td>64.75</td>\n",
       "      <td>88.7</td>\n",
       "      <td>118.75</td>\n",
       "    </tr>\n",
       "  </tbody>\n",
       "</table>\n",
       "</div>"
      ],
      "text/plain": [
       "                 count       mean        std    min     25%    50%   75%  \\\n",
       "tenure          4399.0  37.665606  24.001663   1.00  15.000  37.00  61.0   \n",
       "MonthlyCharges  4399.0  61.424506  31.086101  18.25  25.125  64.75  88.7   \n",
       "\n",
       "                   max  \n",
       "tenure           72.00  \n",
       "MonthlyCharges  118.75  "
      ]
     },
     "execution_count": 42,
     "metadata": {},
     "output_type": "execute_result"
    }
   ],
   "source": [
    "df[df['Churn']=='No'][['tenure','MonthlyCharges']].describe().T"
   ]
  },
  {
   "cell_type": "code",
   "execution_count": 46,
   "metadata": {},
   "outputs": [],
   "source": [
    "df = df.drop(['Unnamed: 0', 'customerID'], axis=1)\n",
    "df['Contract'] = df['Contract'].replace('Two year', 24)\n",
    "df['Contract'] = df['Contract'].replace('One year', 12)\n",
    "df['Contract'] = df['Contract'].replace('Month-to-month', 1)\n",
    "df['PaymentMethod'] = df['PaymentMethod'].replace('Electronic check', 1)\n",
    "df['PaymentMethod'] = df['PaymentMethod'].replace('Mailed check', 2)\n",
    "df['PaymentMethod'] = df['PaymentMethod'].replace('Bank transfer (automatic)', 3)\n",
    "df['PaymentMethod'] = df['PaymentMethod'].replace('Credit card (automatic)', 4)\n",
    "\n",
    "df['MultipleLines'] = df['MultipleLines'].replace('No phone service', 0)\n",
    "\n",
    "df=df.replace('Yes',1)\n",
    "df=df.replace('No',0)\n",
    "df=df.replace('No internet service',2)\n",
    "df=df.replace('No phone service',3)\n",
    "\n",
    "df['gender'] = df['gender'].replace('Male', 1)\n",
    "df['gender'] = df['gender'].replace('Female', 0)\n",
    "df['MultipleLines'] = df['MultipleLines'].astype(int)\n",
    "df['MonthlyCharges'] = df['MonthlyCharges'].astype(int)\n",
    "df['TotalCharges'] = df['TotalCharges'].astype(str)\n",
    "df['InternetService'] = df['InternetService'].replace('Fiber optic', 2)\n",
    "df['InternetService'] = df['InternetService'].replace('DSL', 1)\n",
    "df['TotalCharges'] = df['TotalCharges'].replace(' ', 0)\n",
    "df['TotalCharges'] = df['TotalCharges'].astype(float)\n",
    "total_charge = df['TotalCharges']\n",
    "df['TotalCharges'] = df['TotalCharges'].astype(int)"
   ]
  },
  {
   "cell_type": "code",
   "execution_count": 47,
   "metadata": {},
   "outputs": [],
   "source": [
    "from sklearn.model_selection import train_test_split\n",
    "from sklearn.metrics import classification_report\n",
    "from sklearn import metrics"
   ]
  },
  {
   "cell_type": "code",
   "execution_count": 56,
   "metadata": {},
   "outputs": [],
   "source": [
    "x = df.drop(['Churn'], axis=1)\n",
    "y = df['Churn']\n",
    "x_train, x_test, y_train, y_test = train_test_split(x, y, test_size=0.2, random_state=42)\n",
    "\n",
    "from sklearn.preprocessing import StandardScaler\n",
    "sc = StandardScaler()\n",
    "x_train = sc.fit_transform(x_train)\n",
    "x_test = sc.fit_transform(x_test)"
   ]
  },
  {
   "cell_type": "code",
   "execution_count": 59,
   "metadata": {},
   "outputs": [
    {
     "name": "stdout",
     "output_type": "stream",
     "text": [
      "Model accuracy is 1.0\n"
     ]
    },
    {
     "data": {
      "text/plain": [
       "array([[872,   0],\n",
       "       [  0, 326]])"
      ]
     },
     "execution_count": 59,
     "metadata": {},
     "output_type": "execute_result"
    }
   ],
   "source": [
    "from sklearn.linear_model import LogisticRegression\n",
    "from sklearn import metrics\n",
    "\n",
    "clf = LogisticRegression(C=0.001)\n",
    "model_base = clf.fit(x_train, y_train)\n",
    "y_pred = model_base.predict(x_test)\n",
    "model_base.score(x_test, y_test)\n",
    "\n",
    "print(\"Model accuracy is\", model_base.score(x_test, y_test))\n",
    "cm = metrics.confusion_matrix(y_test, y_pred)\n",
    "cm\n",
    "#print(metrics.classification_report(y_test, y_pred))"
   ]
  },
  {
   "cell_type": "code",
   "execution_count": 60,
   "metadata": {},
   "outputs": [
    {
     "data": {
      "image/png": "[encoded data removed]",
      "text/plain": [
       "<Figure size 576x360 with 1 Axes>"
      ]
     },
     "metadata": {
      "needs_background": "light"
     },
     "output_type": "display_data"
    }
   ],
   "source": [
    "import seaborn as sns\n",
    "plt.figure(figsize = (8, 5))\n",
    "sns.heatmap(cm, cmap = 'Blues', annot = True, fmt = 'd', linewidths = 5, cbar = False, annot_kws = {'fontsize': 15}, \n",
    "            yticklabels = ['Stayed', 'Left'], xticklabels = ['Predicted stayed', 'Predicted left'])\n",
    "plt.yticks(rotation = 0)\n",
    "plt.show()\n"
   ]
  },
  {
   "cell_type": "code",
   "execution_count": null,
   "metadata": {},
   "outputs": [],
   "source": []
  }
 ],
 "metadata": {
  "kernelspec": {
   "display_name": "Python 3",
   "language": "python",
   "name": "python3"
  },
  "language_info": {
   "codemirror_mode": {
    "name": "ipython",
    "version": 3
   },
   "file_extension": ".py",
   "mimetype": "text/x-python",
   "name": "python",
   "nbconvert_exporter": "python",
   "pygments_lexer": "ipython3",
   "version": "3.8.5"
  }
 },
 "nbformat": 4,
 "nbformat_minor": 4
}
